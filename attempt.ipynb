{
 "cells": [
  {
   "cell_type": "code",
   "execution_count": 1,
   "metadata": {},
   "outputs": [],
   "source": [
    "import matplotlib as plt\n",
    "import scipy as sc\n",
    "import numpy as np\n",
    "from scipy.special import jv\n",
    "from scipy.optimize import bisect\n",
    "from scipy.misc import derivative"
   ]
  },
  {
   "cell_type": "code",
   "execution_count": 2,
   "metadata": {},
   "outputs": [],
   "source": [
    "epsilon_1 = 4.3\n",
    "delta_epsilon = 1 \n",
    "epsilon_2 = epsilon_1- -delta_epsilon \n",
    "a = 5*10**-5 \n",
    "r_max = a/2  \n",
    "mu = -1.6 *10**-5\n",
    "m = 2\n",
    "lambda_1 = np.linspace(1260, 1360, 100)\n",
    "lambda_2 = np.linspace(1360, 1460, 100)\n",
    "l = 1 \n",
    "c = 1/(mu*epsilon_1)**0.5"
   ]
  },
  {
   "cell_type": "code",
   "execution_count": 3,
   "metadata": {},
   "outputs": [
    {
     "ename": "AttributeError",
     "evalue": "module 'matplotlib' has no attribute 'plot'",
     "output_type": "error",
     "traceback": [
      "\u001b[1;31m---------------------------------------------------------------------------\u001b[0m",
      "\u001b[1;31mAttributeError\u001b[0m                            Traceback (most recent call last)",
      "Cell \u001b[1;32mIn[3], line 15\u001b[0m\n\u001b[0;32m     13\u001b[0m   \u001b[38;5;28mprint\u001b[39m (k_r)\n\u001b[0;32m     14\u001b[0m   \u001b[38;5;28;01mreturn\u001b[39;00m k_r\n\u001b[1;32m---> 15\u001b[0m \u001b[43mplt\u001b[49m\u001b[38;5;241;43m.\u001b[39;49m\u001b[43mplot\u001b[49m(k_r\u001b[38;5;241m*\u001b[39mr, jv(m, k_r\u001b[38;5;241m*\u001b[39mr))\n\u001b[0;32m     16\u001b[0m plt\u001b[38;5;241m.\u001b[39mshow\n",
      "File \u001b[1;32mc:\\Users\\gergi\\Desktop\\MMF-modeling\\OptoVenv\\Lib\\site-packages\\matplotlib\\_api\\__init__.py:217\u001b[0m, in \u001b[0;36mcaching_module_getattr.<locals>.__getattr__\u001b[1;34m(name)\u001b[0m\n\u001b[0;32m    215\u001b[0m \u001b[38;5;28;01mif\u001b[39;00m name \u001b[38;5;129;01min\u001b[39;00m props:\n\u001b[0;32m    216\u001b[0m     \u001b[38;5;28;01mreturn\u001b[39;00m props[name]\u001b[38;5;241m.\u001b[39m\u001b[38;5;21m__get__\u001b[39m(instance)\n\u001b[1;32m--> 217\u001b[0m \u001b[38;5;28;01mraise\u001b[39;00m \u001b[38;5;167;01mAttributeError\u001b[39;00m(\n\u001b[0;32m    218\u001b[0m     \u001b[38;5;124mf\u001b[39m\u001b[38;5;124m\"\u001b[39m\u001b[38;5;124mmodule \u001b[39m\u001b[38;5;132;01m{\u001b[39;00m\u001b[38;5;28mcls\u001b[39m\u001b[38;5;241m.\u001b[39m\u001b[38;5;18m__module__\u001b[39m\u001b[38;5;132;01m!r}\u001b[39;00m\u001b[38;5;124m has no attribute \u001b[39m\u001b[38;5;132;01m{\u001b[39;00mname\u001b[38;5;132;01m!r}\u001b[39;00m\u001b[38;5;124m\"\u001b[39m)\n",
      "\u001b[1;31mAttributeError\u001b[0m: module 'matplotlib' has no attribute 'plot'"
     ]
    }
   ],
   "source": [
    "#E = np.array(E_phi, E_z, E_r)\n",
    "#H = np.array(H_phi, H_z, H_r)\n",
    "#TE = (E_phi,H_r, H_z)\n",
    "#TM = (H_phi,E_r,E_z)\n",
    "#k = (np.pi*m)/2\n",
    "r = np.linspace(0,a, int(a/(1e-6)))\n",
    "value = 0 \n",
    "\n",
    "\n"
   ]
  },
  {
   "cell_type": "code",
   "execution_count": null,
   "metadata": {},
   "outputs": [],
   "source": [
    "def bessel_biss(x,m):\n",
    "      return jv(m, x) - value\n",
    "def bessel_argumment(m ):\n",
    "\n",
    "  argument = bisect(bessel_biss(x,m))\n",
    "  k_r = argument/a\n",
    "  print (k_r)\n",
    "  return k_r"
   ]
  },
  {
   "cell_type": "code",
   "execution_count": null,
   "metadata": {},
   "outputs": [],
   "source": [
    "plt.plot(k_r*r, jv(m, k_r*r))\n",
    "plt.show"
   ]
  },
  {
   "cell_type": "code",
   "execution_count": null,
   "metadata": {},
   "outputs": [],
   "source": [
    "bessel = jv(m, k_r*r)\n",
    "bessel_diff = derivative(bessel)\n",
    "plt.plot(k_r*r, bessel_diff)\n",
    "plt.show"
   ]
  }
 ],
 "metadata": {
  "kernelspec": {
   "display_name": "OptoVenv",
   "language": "python",
   "name": "python3"
  },
  "language_info": {
   "codemirror_mode": {
    "name": "ipython",
    "version": 3
   },
   "file_extension": ".py",
   "mimetype": "text/x-python",
   "name": "python",
   "nbconvert_exporter": "python",
   "pygments_lexer": "ipython3",
   "version": "3.13.1"
  }
 },
 "nbformat": 4,
 "nbformat_minor": 2
}
