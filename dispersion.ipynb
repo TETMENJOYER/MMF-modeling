{
 "cells": [
  {
   "cell_type": "code",
   "execution_count": 1,
   "metadata": {},
   "outputs": [],
   "source": [
    "import matplotlib.pyplot as plt\n",
    "import scipy as sc\n",
    "import numpy as np\n",
    "from scipy.special import jv , jn_zeros, jnp_zeros, jvp"
   ]
  },
  {
   "cell_type": "code",
   "execution_count": 2,
   "metadata": {},
   "outputs": [],
   "source": [
    "epsilon_1 = 4.3\n",
    "delta_epsilon = 1 \n",
    "epsilon_2 = epsilon_1- -delta_epsilon \n",
    "a = 5 * 10**-5\n",
    "c = 3 * 10**8\n",
    "r_max = a/2  \n",
    "mu = -1.6 * 10 ** -5\n",
    "m = 2\n",
    "n_c = (mu*epsilon_1)**0.5\n",
    "lambda_1 = np.linspace(850, 950, 100)\n",
    "lambda_2 = np.linspace(1260, 1360, 100)\n",
    "l = 1 \n",
    "r = np.linspace(0,r_max, 1000)"
   ]
  },
  {
   "cell_type": "code",
   "execution_count": 3,
   "metadata": {},
   "outputs": [],
   "source": [
    "def k_z (wavelength):\n",
    "    k_z = 2*np.pi*wavelength\n",
    "    return k_z"
   ]
  },
  {
   "cell_type": "code",
   "execution_count": 4,
   "metadata": {},
   "outputs": [],
   "source": [
    "def omega(n,m, M, wavelength):\n",
    "    if (M == 1):\n",
    "        w =(c/(r_max*n_c))*((k_z(wavelength)*a)**2 +jn_zeros(m,n))**0,5\n",
    "    else: \n",
    "        w = (c/(r_max*n_c))*((k_z(wavelength)*a)**2 +jnp_zeros(m,n))**0,5\n",
    "\n",
    "    return w"
   ]
  },
  {
   "cell_type": "code",
   "execution_count": 6,
   "metadata": {},
   "outputs": [
    {
     "ename": "TypeError",
     "evalue": "can't multiply sequence by non-int of type 'float'",
     "output_type": "error",
     "traceback": [
      "\u001b[1;31m---------------------------------------------------------------------------\u001b[0m",
      "\u001b[1;31mTypeError\u001b[0m                                 Traceback (most recent call last)",
      "Cell \u001b[1;32mIn[6], line 1\u001b[0m\n\u001b[1;32m----> 1\u001b[0m plt\u001b[38;5;241m.\u001b[39mplot(k_z(lambda_1)\u001b[38;5;241m*\u001b[39mr_max, \u001b[43momega\u001b[49m\u001b[43m(\u001b[49m\u001b[38;5;241;43m1\u001b[39;49m\u001b[43m,\u001b[49m\u001b[38;5;241;43m1\u001b[39;49m\u001b[43m,\u001b[49m\u001b[38;5;241;43m0\u001b[39;49m\u001b[43m,\u001b[49m\u001b[43m \u001b[49m\u001b[43mlambda_1\u001b[49m\u001b[43m)\u001b[49m\u001b[38;5;241;43m*\u001b[39;49m\u001b[43mr_max\u001b[49m\u001b[38;5;241m/\u001b[39mc, color \u001b[38;5;241m=\u001b[39m \u001b[38;5;124m'\u001b[39m\u001b[38;5;124mblue\u001b[39m\u001b[38;5;124m'\u001b[39m) \n\u001b[0;32m      2\u001b[0m plt\u001b[38;5;241m.\u001b[39mplot(k_z(lambda_1)\u001b[38;5;241m*\u001b[39mr_max, c\u001b[38;5;241m*\u001b[39mk_z(lambda_1)\u001b[38;5;241m/\u001b[39mn_c, color \u001b[38;5;241m=\u001b[39m \u001b[38;5;124m'\u001b[39m\u001b[38;5;124mred\u001b[39m\u001b[38;5;124m'\u001b[39m)\n\u001b[0;32m      3\u001b[0m plt\u001b[38;5;241m.\u001b[39mgrid()\n",
      "\u001b[1;31mTypeError\u001b[0m: can't multiply sequence by non-int of type 'float'"
     ]
    }
   ],
   "source": [
    "plt.plot(k_z(lambda_1)*r_max, omega(1,1,0, lambda_1)*r_max/c, color = 'blue') \n",
    "plt.plot(k_z(lambda_1)*r_max, c*k_z(lambda_1)/n_c, color = 'red')\n",
    "plt.grid()\n",
    "plt.show()"
   ]
  }
 ],
 "metadata": {
  "kernelspec": {
   "display_name": "OptoVenv",
   "language": "python",
   "name": "python3"
  },
  "language_info": {
   "codemirror_mode": {
    "name": "ipython",
    "version": 3
   },
   "file_extension": ".py",
   "mimetype": "text/x-python",
   "name": "python",
   "nbconvert_exporter": "python",
   "pygments_lexer": "ipython3",
   "version": "3.13.1"
  }
 },
 "nbformat": 4,
 "nbformat_minor": 2
}
